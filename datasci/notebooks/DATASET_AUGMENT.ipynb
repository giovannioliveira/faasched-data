{
 "cells": [
  {
   "cell_type": "code",
   "execution_count": 1,
   "metadata": {
    "editable": true,
    "execution": {
     "iopub.execute_input": "2024-06-09T19:05:17.314476Z",
     "iopub.status.busy": "2024-06-09T19:05:17.314102Z",
     "iopub.status.idle": "2024-06-09T19:05:17.831024Z",
     "shell.execute_reply": "2024-06-09T19:05:17.829200Z",
     "shell.execute_reply.started": "2024-06-09T19:05:17.314433Z"
    },
    "slideshow": {
     "slide_type": ""
    },
    "tags": [],
    "ExecuteTime": {
     "end_time": "2024-06-11T01:29:26.298058050Z",
     "start_time": "2024-06-11T01:29:25.311595017Z"
    }
   },
   "outputs": [],
   "source": [
    "from datetime import datetime\n",
    "import numpy as np\n",
    "import pandas as pd\n",
    "from matplotlib import pyplot\n",
    "from lib.stats import pdf_from_samples, cdf_from_pdf"
   ]
  },
  {
   "cell_type": "code",
   "execution_count": 2,
   "metadata": {
    "editable": true,
    "execution": {
     "iopub.execute_input": "2024-06-09T19:05:17.832989Z",
     "iopub.status.busy": "2024-06-09T19:05:17.832528Z",
     "iopub.status.idle": "2024-06-09T19:05:17.841926Z",
     "shell.execute_reply": "2024-06-09T19:05:17.840530Z",
     "shell.execute_reply.started": "2024-06-09T19:05:17.832948Z"
    },
    "slideshow": {
     "slide_type": ""
    },
    "tags": [],
    "ExecuteTime": {
     "end_time": "2024-06-11T01:29:26.303590874Z",
     "start_time": "2024-06-11T01:29:26.297704941Z"
    }
   },
   "outputs": [],
   "source": [
    "EXECUTION_NAME = datetime.now().replace(second=0, microsecond=0).isoformat()\n",
    "PREPROCESSING_EXECUTION_NAME = \"2024-06-09T18:27:00\"\n",
    "OUTPUT_PATH = '../data/'\n",
    "EXECUTION_DURATION_S = 14*24*60*60; NS_TO_S = 1000000000\n",
    "RANDOM_GEN = np.random.default_rng(seed=42)\n",
    "PERCENTILES = [.5,.75,.9,.95,.99,.999]"
   ]
  },
  {
   "cell_type": "code",
   "execution_count": 3,
   "metadata": {
    "editable": true,
    "execution": {
     "iopub.execute_input": "2024-06-09T19:05:17.843764Z",
     "iopub.status.busy": "2024-06-09T19:05:17.843390Z",
     "iopub.status.idle": "2024-06-09T19:05:24.691420Z",
     "shell.execute_reply": "2024-06-09T19:05:24.689547Z",
     "shell.execute_reply.started": "2024-06-09T19:05:17.843727Z"
    },
    "id": "W1oSyv_MhNJh",
    "slideshow": {
     "slide_type": ""
    },
    "tags": [],
    "ExecuteTime": {
     "end_time": "2024-06-11T01:29:30.795677734Z",
     "start_time": "2024-06-11T01:29:26.912532047Z"
    }
   },
   "outputs": [],
   "source": [
    "DF = pd.read_csv(OUTPUT_PATH+PREPROCESSING_EXECUTION_NAME+'-EVENTS.csv.gz',\n",
    "                 index_col='id')"
   ]
  },
  {
   "cell_type": "code",
   "execution_count": 4,
   "metadata": {
    "execution": {
     "iopub.execute_input": "2024-06-09T19:05:24.693409Z",
     "iopub.status.busy": "2024-06-09T19:05:24.693030Z",
     "iopub.status.idle": "2024-06-09T19:05:24.719602Z",
     "shell.execute_reply": "2024-06-09T19:05:24.718302Z",
     "shell.execute_reply.started": "2024-06-09T19:05:24.693367Z"
    },
    "ExecuteTime": {
     "end_time": "2024-06-11T00:17:08.521930017Z",
     "start_time": "2024-06-11T00:17:08.514037880Z"
    }
   },
   "outputs": [
    {
     "data": {
      "text/plain": "         app_id  func_id            end_ns       dur_ns            beg_ns  \\\nid                                                                          \n0             8       63          79490900     78000000           1490900   \n1            64      150       57157860040  57154000000           3860040   \n2            64      146       59130477905  59125000000           5477905   \n3             0      245        6252541065   6236000000          16541065   \n4             8      374          66823959     50000000          16823959   \n...         ...      ...               ...          ...               ...   \n3961897      19      376  1209598561518907      1000000  1209598560518907   \n3961898      19      376  1209598628381967      1000000  1209598627381967   \n3961899      19      376  1209598628381967      1000000  1209598627381967   \n3961900      19      376  1209599694463968      1000000  1209599693463968   \n3961901      19      376  1209599694463968      1000000  1209599693463968   \n\n                       ts   req_id  event_type  \nid                                              \n0                 1490900        0           1  \n1                 3860040        1           1  \n2                 5477905        2           1  \n3                16541065        3           1  \n4                16823959        4           1  \n...                   ...      ...         ...  \n3961897  1209598561518907  1980948           0  \n3961898  1209598627381967  1980949           1  \n3961899  1209598628381967  1980949           0  \n3961900  1209599693463968  1980950           1  \n3961901  1209599694463968  1980950           0  \n\n[3961902 rows x 8 columns]",
      "text/html": "<div>\n<style scoped>\n    .dataframe tbody tr th:only-of-type {\n        vertical-align: middle;\n    }\n\n    .dataframe tbody tr th {\n        vertical-align: top;\n    }\n\n    .dataframe thead th {\n        text-align: right;\n    }\n</style>\n<table border=\"1\" class=\"dataframe\">\n  <thead>\n    <tr style=\"text-align: right;\">\n      <th></th>\n      <th>app_id</th>\n      <th>func_id</th>\n      <th>end_ns</th>\n      <th>dur_ns</th>\n      <th>beg_ns</th>\n      <th>ts</th>\n      <th>req_id</th>\n      <th>event_type</th>\n    </tr>\n    <tr>\n      <th>id</th>\n      <th></th>\n      <th></th>\n      <th></th>\n      <th></th>\n      <th></th>\n      <th></th>\n      <th></th>\n      <th></th>\n    </tr>\n  </thead>\n  <tbody>\n    <tr>\n      <th>0</th>\n      <td>8</td>\n      <td>63</td>\n      <td>79490900</td>\n      <td>78000000</td>\n      <td>1490900</td>\n      <td>1490900</td>\n      <td>0</td>\n      <td>1</td>\n    </tr>\n    <tr>\n      <th>1</th>\n      <td>64</td>\n      <td>150</td>\n      <td>57157860040</td>\n      <td>57154000000</td>\n      <td>3860040</td>\n      <td>3860040</td>\n      <td>1</td>\n      <td>1</td>\n    </tr>\n    <tr>\n      <th>2</th>\n      <td>64</td>\n      <td>146</td>\n      <td>59130477905</td>\n      <td>59125000000</td>\n      <td>5477905</td>\n      <td>5477905</td>\n      <td>2</td>\n      <td>1</td>\n    </tr>\n    <tr>\n      <th>3</th>\n      <td>0</td>\n      <td>245</td>\n      <td>6252541065</td>\n      <td>6236000000</td>\n      <td>16541065</td>\n      <td>16541065</td>\n      <td>3</td>\n      <td>1</td>\n    </tr>\n    <tr>\n      <th>4</th>\n      <td>8</td>\n      <td>374</td>\n      <td>66823959</td>\n      <td>50000000</td>\n      <td>16823959</td>\n      <td>16823959</td>\n      <td>4</td>\n      <td>1</td>\n    </tr>\n    <tr>\n      <th>...</th>\n      <td>...</td>\n      <td>...</td>\n      <td>...</td>\n      <td>...</td>\n      <td>...</td>\n      <td>...</td>\n      <td>...</td>\n      <td>...</td>\n    </tr>\n    <tr>\n      <th>3961897</th>\n      <td>19</td>\n      <td>376</td>\n      <td>1209598561518907</td>\n      <td>1000000</td>\n      <td>1209598560518907</td>\n      <td>1209598561518907</td>\n      <td>1980948</td>\n      <td>0</td>\n    </tr>\n    <tr>\n      <th>3961898</th>\n      <td>19</td>\n      <td>376</td>\n      <td>1209598628381967</td>\n      <td>1000000</td>\n      <td>1209598627381967</td>\n      <td>1209598627381967</td>\n      <td>1980949</td>\n      <td>1</td>\n    </tr>\n    <tr>\n      <th>3961899</th>\n      <td>19</td>\n      <td>376</td>\n      <td>1209598628381967</td>\n      <td>1000000</td>\n      <td>1209598627381967</td>\n      <td>1209598628381967</td>\n      <td>1980949</td>\n      <td>0</td>\n    </tr>\n    <tr>\n      <th>3961900</th>\n      <td>19</td>\n      <td>376</td>\n      <td>1209599694463968</td>\n      <td>1000000</td>\n      <td>1209599693463968</td>\n      <td>1209599693463968</td>\n      <td>1980950</td>\n      <td>1</td>\n    </tr>\n    <tr>\n      <th>3961901</th>\n      <td>19</td>\n      <td>376</td>\n      <td>1209599694463968</td>\n      <td>1000000</td>\n      <td>1209599693463968</td>\n      <td>1209599694463968</td>\n      <td>1980950</td>\n      <td>0</td>\n    </tr>\n  </tbody>\n</table>\n<p>3961902 rows × 8 columns</p>\n</div>"
     },
     "execution_count": 4,
     "metadata": {},
     "output_type": "execute_result"
    }
   ],
   "source": [
    "DF"
   ]
  },
  {
   "cell_type": "code",
   "execution_count": 5,
   "metadata": {
    "editable": true,
    "execution": {
     "iopub.execute_input": "2024-06-09T19:05:24.721484Z",
     "iopub.status.busy": "2024-06-09T19:05:24.721110Z",
     "iopub.status.idle": "2024-06-09T19:05:24.728682Z",
     "shell.execute_reply": "2024-06-09T19:05:24.727276Z",
     "shell.execute_reply.started": "2024-06-09T19:05:24.721447Z"
    },
    "slideshow": {
     "slide_type": ""
    },
    "tags": [],
    "ExecuteTime": {
     "end_time": "2024-06-11T00:17:08.558758891Z",
     "start_time": "2024-06-11T00:17:08.523468699Z"
    }
   },
   "outputs": [],
   "source": [
    "_count = -1\n",
    "_app_id = -1\n",
    "def get_count(app_id):\n",
    "    global _count,_app_id\n",
    "    if app_id == _app_id:\n",
    "        _count += 1\n",
    "    else:\n",
    "        _count = 0\n",
    "        _app_id = app_id\n",
    "    return _count"
   ]
  },
  {
   "cell_type": "code",
   "execution_count": 6,
   "metadata": {
    "editable": true,
    "execution": {
     "iopub.execute_input": "2024-06-09T19:05:24.732802Z",
     "iopub.status.busy": "2024-06-09T19:05:24.732427Z",
     "iopub.status.idle": "2024-06-09T19:05:24.748441Z",
     "shell.execute_reply": "2024-06-09T19:05:24.746906Z",
     "shell.execute_reply.started": "2024-06-09T19:05:24.732764Z"
    },
    "scrolled": true,
    "slideshow": {
     "slide_type": ""
    },
    "tags": [],
    "ExecuteTime": {
     "end_time": "2024-06-11T00:17:08.580109461Z",
     "start_time": "2024-06-11T00:17:08.536297053Z"
    }
   },
   "outputs": [],
   "source": [
    "def state_fabric():\n",
    "    return {'current_requests': set(),\n",
    "             'last_arrival_ts': 0,\n",
    "             'last_departure_ts': 0,\n",
    "             'last_event_ts': 0,\n",
    "             'avg_active_count': 0,\n",
    "             'activity_pc': 0,\n",
    "             'idle_arrival_count': 0, \n",
    "             'duration': [],\n",
    "             'active_count': dict(),\n",
    "             'arrival_ts': [],\n",
    "             'arrival_dt': [],\n",
    "             'departure_dt': [],\n",
    "             'arrival_departure_dt': [],\n",
    "             'departure_arrival_dt': []}\n",
    "def update_state(event, state):\n",
    "    req_cnt = len(state['current_requests'])\n",
    "    if req_cnt != 0:\n",
    "        eventDt = event.ts - state['last_event_ts']\n",
    "        state['avg_active_count'] += req_cnt*eventDt\n",
    "        if req_cnt in state['active_count']:\n",
    "            state['active_count'][req_cnt] += eventDt\n",
    "        else:\n",
    "            state['active_count'][req_cnt] = eventDt\n",
    "        state['activity_pc'] += eventDt \n",
    "    if event.event_type == 1:\n",
    "        state['arrival_ts'].append(event.ts)\n",
    "        state['arrival_dt'].append(event.ts - state['last_arrival_ts'])\n",
    "        state['departure_arrival_dt'].append(event.ts - state['last_departure_ts'])\n",
    "        if len(state['current_requests']) != 0:\n",
    "            state['idle_arrival_count'] += 1\n",
    "        state['current_requests'].add(event.req_id)\n",
    "        state['last_arrival_ts'] = event.ts\n",
    "    else:\n",
    "        state['departure_dt'].append(event.ts - state['last_departure_ts'])\n",
    "        state['arrival_departure_dt'].append(event.ts - state['last_arrival_ts'])\n",
    "        state['current_requests'].remove(event.req_id)\n",
    "        state['last_departure_ts'] = event.ts\n",
    "        state['duration'].append(event.dur_ns)\n",
    "    state['last_event_ts'] = event.ts\n",
    "def normalize_state(state):\n",
    "    state['activity_pc'] /= (EXECUTION_DURATION_S*NS_TO_S)\n",
    "    state['avg_active_count'] /= (state['activity_pc']*EXECUTION_DURATION_S*NS_TO_S)"
   ]
  },
  {
   "cell_type": "code",
   "execution_count": 7,
   "metadata": {
    "editable": true,
    "execution": {
     "iopub.execute_input": "2024-06-09T19:05:24.750089Z",
     "iopub.status.busy": "2024-06-09T19:05:24.749706Z",
     "iopub.status.idle": "2024-06-09T19:06:05.600157Z",
     "shell.execute_reply": "2024-06-09T19:06:05.598511Z",
     "shell.execute_reply.started": "2024-06-09T19:05:24.750025Z"
    },
    "slideshow": {
     "slide_type": ""
    },
    "tags": [],
    "ExecuteTime": {
     "end_time": "2024-06-11T00:17:30.513693344Z",
     "start_time": "2024-06-11T00:17:08.543225505Z"
    }
   },
   "outputs": [],
   "source": [
    "STATE = {\n",
    "    \"global\": state_fabric(),\n",
    "    \"app\":dict(\n",
    "        [*[app_id, state_fabric()]]\n",
    "        for app_id in DF[\"app_id\"].unique()),\n",
    "    \"func\":dict(\n",
    "        [*[func_id, state_fabric()]]\n",
    "        for func_id in DF[\"func_id\"].unique()),\n",
    "}\n",
    "for event in DF.itertuples():\n",
    "    update_state(event, STATE[\"func\"][event.func_id])\n",
    "    update_state(event, STATE[\"app\"][event.app_id])\n",
    "    update_state(event, STATE[\"global\"])\n",
    "for state in STATE['func'].values():\n",
    "    normalize_state(state)\n",
    "for state in STATE['app'].values():\n",
    "    normalize_state(state)\n",
    "normalize_state(STATE['global'])"
   ]
  },
  {
   "cell_type": "code",
   "execution_count": 4,
   "outputs": [],
   "source": [
    "df_in = DF[DF['event_type'] == 1]\n",
    "df_out = DF[DF['event_type'] == 0]"
   ],
   "metadata": {
    "collapsed": false,
    "ExecuteTime": {
     "end_time": "2024-06-11T01:29:38.778755493Z",
     "start_time": "2024-06-11T01:29:38.658911528Z"
    }
   }
  },
  {
   "cell_type": "code",
   "execution_count": 9,
   "outputs": [
    {
     "data": {
      "text/plain": "count    1.980951e+06\nmean     3.347944e+09\nstd      1.850717e+10\nmin      0.000000e+00\n50%      3.100000e+07\n75%      3.720000e+08\n90%      1.620000e+09\n95%      1.441600e+10\n99%      7.219950e+10\n99.9%    2.536553e+11\nmax      5.786200e+11\nName: dur_ns, dtype: float64"
     },
     "execution_count": 9,
     "metadata": {},
     "output_type": "execute_result"
    }
   ],
   "source": [
    "df_out['dur_ns'].describe(percentiles=PERCENTILES)"
   ],
   "metadata": {
    "collapsed": false,
    "ExecuteTime": {
     "end_time": "2024-06-11T00:17:30.687061211Z",
     "start_time": "2024-06-11T00:17:30.643345409Z"
    }
   }
  },
  {
   "cell_type": "code",
   "execution_count": 5,
   "outputs": [
    {
     "data": {
      "text/plain": "<matplotlib.collections.PolyCollection at 0x77a717afc5b0>"
     },
     "execution_count": 5,
     "metadata": {},
     "output_type": "execute_result"
    },
    {
     "data": {
      "text/plain": "<Figure size 640x480 with 1 Axes>",
      "image/png": "[encoded data removed]"
     },
     "metadata": {},
     "output_type": "display_data"
    }
   ],
   "source": [
    "X_d, Y_d, kde = pdf_from_samples(df_out['dur_ns'].values/NS_TO_S)\n",
    "pyplot.fill_between(X_d,Y_d)"
   ],
   "metadata": {
    "collapsed": false,
    "ExecuteTime": {
     "end_time": "2024-06-11T01:30:14.565960076Z",
     "start_time": "2024-06-11T01:29:58.353306348Z"
    }
   }
  },
  {
   "cell_type": "code",
   "execution_count": 25,
   "outputs": [
    {
     "data": {
      "text/plain": "<matplotlib.collections.PolyCollection at 0x77a71526f040>"
     },
     "execution_count": 25,
     "metadata": {},
     "output_type": "execute_result"
    },
    {
     "data": {
      "text/plain": "<Figure size 640x480 with 1 Axes>",
      "image/png": "[encoded data removed]"
     },
     "metadata": {},
     "output_type": "display_data"
    }
   ],
   "source": [
    "Y_c = cdf_from_pdf(X_d,Y_d)\n",
    "pyplot.fill_between(X_d,Y_c)"
   ],
   "metadata": {
    "collapsed": false,
    "ExecuteTime": {
     "end_time": "2024-06-11T03:06:59.361316981Z",
     "start_time": "2024-06-11T03:06:59.220780794Z"
    }
   }
  },
  {
   "cell_type": "code",
   "execution_count": 13,
   "metadata": {
    "execution": {
     "iopub.execute_input": "2024-06-09T19:09:18.561549Z",
     "iopub.status.busy": "2024-06-09T19:09:18.560191Z",
     "iopub.status.idle": "2024-06-09T19:09:18.569378Z",
     "shell.execute_reply": "2024-06-09T19:09:18.567870Z",
     "shell.execute_reply.started": "2024-06-09T19:09:18.561503Z"
    },
    "ExecuteTime": {
     "end_time": "2024-06-11T00:17:59.034628732Z",
     "start_time": "2024-06-11T00:17:59.029180367Z"
    }
   },
   "outputs": [],
   "source": [
    "# @dataclass\n",
    "# class Bucket:\n",
    "#     level = 0\n",
    "#     timestamp: int \n",
    "#     functionID: int\n",
    "#     applicationID: int\n",
    "#     count: int\n",
    "#     lastArrivalDt: float\n",
    "#     lastDepartureDt: float\n",
    "#     avgCount: Optional[float] = 0\n",
    "#     maxCount: Optional[int] = 0   \n",
    "#     arrivalCount: Optional[int] = 0\n",
    "#     departureCount: Optional[int] = 0\n",
    "#     avgRunningAge: Optional[float] = 0\n",
    "#     virtualColdStarts: Optional[int] = 0\n",
    "#     idlePc: Optional[float] = 0\n",
    "\n",
    "# @dataclass\n",
    "# class AppBucket:\n",
    "#     level = 1\n",
    "#     timestamp: int \n",
    "#     applicationID: int\n",
    "#     count: int\n",
    "#     lastArrivalDt: float\n",
    "#     lastDepartureDt: float\n",
    "#     avgCount: Optional[float] = 0\n",
    "#     maxCount: Optional[int] = 0   \n",
    "#     arrivalCount: Optional[int] = 0\n",
    "#     departureCount: Optional[int] = 0\n",
    "#     avgRunningAge: Optional[float] = 0\n",
    "#     virtualColdStarts: Optional[int] = 0\n",
    "#     idlePc: Optional[float] = 0\n",
    "\n",
    "# @dataclass\n",
    "# class GlobalBucket:\n",
    "#     level = 2\n",
    "#     timestamp: int \n",
    "#     count: int\n",
    "#     lastArrivalDt: float\n",
    "#     lastDepartureDt: float\n",
    "#     avgCount: Optional[float] = 0\n",
    "#     maxCount: Optional[int] = 0   \n",
    "#     arrivalCount: Optional[int] = 0\n",
    "#     departureCount: Optional[int] = 0\n",
    "#     avgRunningAge: Optional[float] = 0\n",
    "#     virtualColdStarts: Optional[int] = 0\n",
    "#     idlePc: Optional[float] = 0"
   ]
  },
  {
   "cell_type": "code",
   "execution_count": 14,
   "metadata": {
    "editable": true,
    "execution": {
     "iopub.execute_input": "2024-06-09T19:09:19.541682Z",
     "iopub.status.busy": "2024-06-09T19:09:19.541143Z",
     "iopub.status.idle": "2024-06-09T19:09:19.549030Z",
     "shell.execute_reply": "2024-06-09T19:09:19.547715Z",
     "shell.execute_reply.started": "2024-06-09T19:09:19.541638Z"
    },
    "slideshow": {
     "slide_type": ""
    },
    "tags": [],
    "ExecuteTime": {
     "end_time": "2024-06-11T00:17:59.038476756Z",
     "start_time": "2024-06-11T00:17:59.035320522Z"
    }
   },
   "outputs": [],
   "source": [
    "# buckets = [dict(),]*(EXECUTION_DURATION_S+1)\n",
    "# buckets[0]['global'] = GlobalBucket(0, 0, 0, 0)\n",
    "# for grp in range(1, len(buckets)):\n",
    "#     df_grp = DF[DF['group'] == grp]\n",
    "#     bucket = buckets[grp]\n",
    "    \n",
    "#     for event in df_grp.itertuples():\n",
    "        \n",
    "#         if STATE['func'][event.func_id]['count'] == None:\n",
    "#             pass #init func\n",
    "#             if STATE['app'][event.app_id]['count'] == None:\n",
    "#                 pass #init app\n",
    "#                 if STATE['global']['count'] == None:\n",
    "#                    STATE['global']['current_requests'].add(event.req)\n",
    "#                    STATE['global']['count'] = 0 \n",
    "            \n",
    "#         if event.func_id not in bucket:\n",
    "\n",
    "#             func_state = STATE['func'][event.func_id]\n",
    "#             bucket[event.func_id] = Bucket(event.ts, event.func_id, event.app_id,\n",
    "                                           \n",
    "                                        \n",
    "#         else:\n",
    "#             pass # departure"
   ]
  }
 ],
 "metadata": {
  "colab": {
   "provenance": []
  },
  "kernelspec": {
   "display_name": "Python 3 (ipykernel)",
   "language": "python",
   "name": "python3"
  },
  "language_info": {
   "codemirror_mode": {
    "name": "ipython",
    "version": 3
   },
   "file_extension": ".py",
   "mimetype": "text/x-python",
   "name": "python",
   "nbconvert_exporter": "python",
   "pygments_lexer": "ipython3",
   "version": "3.10.12"
  },
  "widgets": {
   "application/vnd.jupyter.widget-state+json": {
    "state": {},
    "version_major": 2,
    "version_minor": 0
   }
  }
 },
 "nbformat": 4,
 "nbformat_minor": 4
}
