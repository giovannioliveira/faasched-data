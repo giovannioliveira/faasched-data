{
 "cells": [
  {
   "cell_type": "code",
   "execution_count": 1,
   "metadata": {
    "ExecuteTime": {
     "end_time": "2024-06-04T17:06:42.434185625Z",
     "start_time": "2024-06-04T17:06:41.192008058Z"
    },
    "editable": true,
    "execution": {
     "iopub.execute_input": "2024-06-06T19:27:51.181610Z",
     "iopub.status.busy": "2024-06-06T19:27:51.181094Z",
     "iopub.status.idle": "2024-06-06T19:27:51.775904Z",
     "shell.execute_reply": "2024-06-06T19:27:51.774198Z",
     "shell.execute_reply.started": "2024-06-06T19:27:51.181545Z"
    },
    "slideshow": {
     "slide_type": ""
    },
    "tags": []
   },
   "outputs": [],
   "source": [
    "import os\n",
    "import gc\n",
    "import time\n",
    "import threading\n",
    "from datetime import datetime\n",
    "import urllib3\n",
    "from itertools import permutations\n",
    "from dataclasses import dataclass\n",
    "import pandas as pd\n",
    "import numpy as np\n",
    "from numpy import vectorize\n",
    "from numpy.random import SeedSequence\n",
    "from typing import Optional"
   ]
  },
  {
   "cell_type": "code",
   "execution_count": 2,
   "metadata": {
    "editable": true,
    "execution": {
     "iopub.execute_input": "2024-06-06T19:29:05.821292Z",
     "iopub.status.busy": "2024-06-06T19:29:05.820731Z",
     "iopub.status.idle": "2024-06-06T19:29:05.833914Z",
     "shell.execute_reply": "2024-06-06T19:29:05.832669Z",
     "shell.execute_reply.started": "2024-06-06T19:29:05.821250Z"
    },
    "is_executing": true,
    "slideshow": {
     "slide_type": ""
    },
    "tags": []
   },
   "outputs": [],
   "source": [
    "EXECUTION_NAME = datetime.now().replace(second=0, microsecond=0).isoformat()\n",
    "PREPROCESSING_EXECUTION_NAME = \"2024-05-12T20:24:00\"\n",
    "OUTPUT_PATH = '../output/'\n",
    "\n",
    "EXECUTION_DURATION_S = 14*24*60*60; NS_TO_S = 1000000000\n",
    "\n",
    "with open(OUTPUT_PATH+PREPROCESSING_EXECUTION_NAME+'-SEED.csv', 'r') as f:\n",
    "    seedz = np.vectorize(int)(f.read().split(','))\n",
    "assert(seedz is not None)    \n",
    "\n",
    "RANDOM_GEN = np.random.default_rng(seed=SeedSequence(entropy=list(map(abs,seedz))))"
   ]
  },
  {
   "cell_type": "code",
   "execution_count": 3,
   "metadata": {
    "editable": true,
    "execution": {
     "iopub.execute_input": "2024-06-06T19:29:45.133579Z",
     "iopub.status.busy": "2024-06-06T19:29:45.133031Z",
     "iopub.status.idle": "2024-06-06T19:29:51.878432Z",
     "shell.execute_reply": "2024-06-06T19:29:51.876726Z",
     "shell.execute_reply.started": "2024-06-06T19:29:45.133538Z"
    },
    "id": "W1oSyv_MhNJh",
    "slideshow": {
     "slide_type": ""
    },
    "tags": []
   },
   "outputs": [],
   "source": [
    "DF = pd.read_csv(OUTPUT_PATH+PREPROCESSING_EXECUTION_NAME+'-EVENTS.csv.gz',\n",
    "                 index_col='id')"
   ]
  },
  {
   "cell_type": "code",
   "execution_count": 4,
   "metadata": {
    "editable": true,
    "execution": {
     "iopub.execute_input": "2024-06-06T19:29:51.880935Z",
     "iopub.status.busy": "2024-06-06T19:29:51.880542Z",
     "iopub.status.idle": "2024-06-06T19:29:51.887693Z",
     "shell.execute_reply": "2024-06-06T19:29:51.886464Z",
     "shell.execute_reply.started": "2024-06-06T19:29:51.880895Z"
    },
    "slideshow": {
     "slide_type": ""
    },
    "tags": []
   },
   "outputs": [],
   "source": [
    "_count = -1\n",
    "_app_id = -1\n",
    "def getCount(app_id):\n",
    "    global _count,_app_id\n",
    "    if app_id == _app_id:\n",
    "        _count += 1\n",
    "    else:\n",
    "        _count = 0\n",
    "        _app_id = app_id\n",
    "    return _count"
   ]
  },
  {
   "cell_type": "code",
   "execution_count": 6,
   "metadata": {
    "editable": true,
    "execution": {
     "iopub.execute_input": "2024-06-06T19:32:17.541580Z",
     "iopub.status.busy": "2024-06-06T19:32:17.541023Z",
     "iopub.status.idle": "2024-06-06T19:32:19.721479Z",
     "shell.execute_reply": "2024-06-06T19:32:19.720097Z",
     "shell.execute_reply.started": "2024-06-06T19:32:17.541538Z"
    },
    "scrolled": true,
    "slideshow": {
     "slide_type": ""
    },
    "tags": []
   },
   "outputs": [],
   "source": [
    "STATE = {\n",
    "    \"global\":{'current_requests': set(),\n",
    "        'arrival_dt': [],\n",
    "        'departure_dt': [],\n",
    "        'arrival_depature_dt': [],\n",
    "        'departure_arrival_dt': [],\n",
    "        'last_arrival': None,\n",
    "        'last_departure': None\n",
    "    },\n",
    "    \"app\":dict(\n",
    "        [*[app_id,\n",
    "            {'current_requests': set(),\n",
    "             'arrival_dt': [],\n",
    "             'departure_dt': [],\n",
    "             'arrival_depature_dt': [],\n",
    "             'departure_arrival_dt': [],\n",
    "             'last_arrival': None,\n",
    "             'last_departure': None,\n",
    "             'func_map': {func: getCount(app_id) \\\n",
    "                           for func in DF[DF[\"app_id\"] == app_id]['func_id'].unique()}}]] \n",
    "        for app_id in DF[\"app_id\"].unique()),\n",
    "    \"func\":dict(\n",
    "        [*[func_id,\n",
    "            {'current_requests': set(),\n",
    "             'request_count': 0\n",
    "             'arrival_dt': [],\n",
    "             'departure_dt': [],\n",
    "             'arrival_depature_dt': [],\n",
    "             'departure_arrival_dt': [],\n",
    "             'last_arrival': None,\n",
    "             'last_departure': None}]] \n",
    "        for func_id in DF[\"func_id\"].unique()),\n",
    "}"
   ]
  },
  {
   "cell_type": "code",
   "execution_count": 8,
   "metadata": {
    "editable": true,
    "execution": {
     "iopub.execute_input": "2024-06-06T19:33:05.267401Z",
     "iopub.status.busy": "2024-06-06T19:33:05.266922Z",
     "iopub.status.idle": "2024-06-06T19:33:05.281763Z",
     "shell.execute_reply": "2024-06-06T19:33:05.279843Z",
     "shell.execute_reply.started": "2024-06-06T19:33:05.267358Z"
    },
    "slideshow": {
     "slide_type": ""
    },
    "tags": []
   },
   "outputs": [
    {
     "data": {
      "text/plain": [
       "Index(['ts', 'event_type', 'req_id', 'func_id', 'app_id', 'beg_ns', 'end_ns',\n",
       "       'dur_ns'],\n",
       "      dtype='object')"
      ]
     },
     "execution_count": 8,
     "metadata": {},
     "output_type": "execute_result"
    }
   ],
   "source": [
    "DF.columns"
   ]
  },
  {
   "cell_type": "code",
   "execution_count": 25,
   "metadata": {
    "execution": {
     "iopub.execute_input": "2024-06-06T20:34:57.709851Z",
     "iopub.status.busy": "2024-06-06T20:34:57.709320Z",
     "iopub.status.idle": "2024-06-06T20:34:57.719067Z",
     "shell.execute_reply": "2024-06-06T20:34:57.717796Z",
     "shell.execute_reply.started": "2024-06-06T20:34:57.709808Z"
    }
   },
   "outputs": [],
   "source": [
    "@dataclass\n",
    "class EventMod:\n",
    "    ts: int\n",
    "    level: int\n",
    "    ID: int\n",
    "    request_count: Optional[int] = None\n",
    "    arrival_dt: Optional[int] = None\n",
    "    departure_dt: Optional[int] = None\n",
    "    arrival_depature_dt: Optional[int] = None\n",
    "    departure_arrival_dt: Optional[int] = None"
   ]
  },
  {
   "cell_type": "code",
   "execution_count": 26,
   "metadata": {
    "execution": {
     "iopub.execute_input": "2024-06-06T20:34:59.841324Z",
     "iopub.status.busy": "2024-06-06T20:34:59.840765Z",
     "iopub.status.idle": "2024-06-06T20:34:59.848193Z",
     "shell.execute_reply": "2024-06-06T20:34:59.846823Z",
     "shell.execute_reply.started": "2024-06-06T20:34:59.841276Z"
    }
   },
   "outputs": [],
   "source": [
    "events: list[EventMod] = []"
   ]
  },
  {
   "cell_type": "code",
   "execution_count": null,
   "metadata": {
    "editable": true,
    "slideshow": {
     "slide_type": ""
    },
    "tags": []
   },
   "outputs": [],
   "source": [
    "for event in DF.itertuples():\n",
    "    func = STATE[\"func\"][event.func_id]\n",
    "    eventMod = EventMod(event.ts, 0, event.func_id)\n",
    "    if func['last_departure'] is not None:\n",
    "        if event.event_type == 1:\n",
    "            eventMod.request_count = \n",
    "            event.ts - func['last_arrival'].ts\n",
    "        else:\n",
    "            pass\n",
    "    elif func['last_arrival'] is not None:\n",
    "        if event.event_type == 1:\n",
    "            pass\n",
    "        else:\n",
    "            pass\n",
    "    else:\n",
    "        if event.event_type == 1:\n",
    "            pass\n",
    "        else:\n",
    "            pass\n",
    "    app = STATE[\"app\"][event.app_id]\n",
    "    if app['last_departure'] is not None:\n",
    "        if event.event_type == 1:\n",
    "            pass\n",
    "        else:\n",
    "            pass\n",
    "    elif app['last_arrival'] is not None:\n",
    "        if event.event_type == 1:\n",
    "            pass\n",
    "        else:\n",
    "            pass\n",
    "    else:\n",
    "        if event.event_type == 1:\n",
    "            pass\n",
    "        else:\n",
    "            pass\n",
    "    glb = STATE[\"global\"]\n",
    "    if glb['last_departure'] is not None:\n",
    "        if event.event_type == 1:\n",
    "            pass\n",
    "        else:\n",
    "            pass\n",
    "    elif glb['last_arrival'] is not None:\n",
    "        if event.event_type == 1:\n",
    "            pass\n",
    "        else:\n",
    "            pass\n",
    "    else:\n",
    "        if event.event_type == 1:\n",
    "            pass\n",
    "        else:\n",
    "            pass\n",
    "        \n",
    "\n",
    "            \n",
    "        "
   ]
  },
  {
   "cell_type": "code",
   "execution_count": null,
   "metadata": {
    "editable": true,
    "slideshow": {
     "slide_type": ""
    },
    "tags": []
   },
   "outputs": [],
   "source": []
  },
  {
   "cell_type": "code",
   "execution_count": null,
   "metadata": {
    "editable": true,
    "slideshow": {
     "slide_type": ""
    },
    "tags": []
   },
   "outputs": [],
   "source": [
    "DF['group'] = (DF['ts'] / NS_TO_S + 1).astype(int)"
   ]
  },
  {
   "cell_type": "code",
   "execution_count": 49,
   "metadata": {
    "execution": {
     "iopub.execute_input": "2024-06-06T05:32:03.200886Z",
     "iopub.status.busy": "2024-06-06T05:32:03.200314Z",
     "iopub.status.idle": "2024-06-06T05:32:03.220852Z",
     "shell.execute_reply": "2024-06-06T05:32:03.219422Z",
     "shell.execute_reply.started": "2024-06-06T05:32:03.200841Z"
    }
   },
   "outputs": [],
   "source": [
    "@dataclass\n",
    "class Bucket:\n",
    "    level = 0\n",
    "    timestamp: int \n",
    "    functionID: int\n",
    "    applicationID: int\n",
    "    count: int\n",
    "    lastArrivalDt: float\n",
    "    lastDepartureDt: float\n",
    "    avgCount: Optional[float] = 0\n",
    "    maxCount: Optional[int] = 0   \n",
    "    arrivalCount: Optional[int] = 0\n",
    "    departureCount: Optional[int] = 0\n",
    "    avgRunningAge: Optional[float] = 0\n",
    "    virtualColdStarts: Optional[int] = 0\n",
    "    idlePc: Optional[float] = 0\n",
    "\n",
    "@dataclass\n",
    "class AppBucket:\n",
    "    level = 1\n",
    "    timestamp: int \n",
    "    applicationID: int\n",
    "    count: int\n",
    "    lastArrivalDt: float\n",
    "    lastDepartureDt: float\n",
    "    avgCount: Optional[float] = 0\n",
    "    maxCount: Optional[int] = 0   \n",
    "    arrivalCount: Optional[int] = 0\n",
    "    departureCount: Optional[int] = 0\n",
    "    avgRunningAge: Optional[float] = 0\n",
    "    virtualColdStarts: Optional[int] = 0\n",
    "    idlePc: Optional[float] = 0\n",
    "\n",
    "@dataclass\n",
    "class GlobalBucket:\n",
    "    level = 2\n",
    "    timestamp: int \n",
    "    count: int\n",
    "    lastArrivalDt: float\n",
    "    lastDepartureDt: float\n",
    "    avgCount: Optional[float] = 0\n",
    "    maxCount: Optional[int] = 0   \n",
    "    arrivalCount: Optional[int] = 0\n",
    "    departureCount: Optional[int] = 0\n",
    "    avgRunningAge: Optional[float] = 0\n",
    "    virtualColdStarts: Optional[int] = 0\n",
    "    idlePc: Optional[float] = 0"
   ]
  },
  {
   "cell_type": "code",
   "execution_count": 43,
   "metadata": {
    "execution": {
     "iopub.execute_input": "2024-06-05T03:26:23.542931Z",
     "iopub.status.busy": "2024-06-05T03:26:23.542367Z",
     "iopub.status.idle": "2024-06-05T03:26:23.553470Z",
     "shell.execute_reply": "2024-06-05T03:26:23.552100Z",
     "shell.execute_reply.started": "2024-06-05T03:26:23.542886Z"
    }
   },
   "outputs": [
    {
     "data": {
      "text/plain": [
       "Index(['ts', 'event_type', 'req_id', 'func_id', 'app_id', 'beg_ns', 'end_ns',\n",
       "       'dur_ns', 'group'],\n",
       "      dtype='object')"
      ]
     },
     "execution_count": 43,
     "metadata": {},
     "output_type": "execute_result"
    }
   ],
   "source": [
    "DF.columns"
   ]
  },
  {
   "cell_type": "code",
   "execution_count": 8,
   "metadata": {
    "editable": true,
    "execution": {
     "iopub.execute_input": "2024-06-04T23:16:52.906022Z",
     "iopub.status.busy": "2024-06-04T23:16:52.905460Z",
     "iopub.status.idle": "2024-06-04T23:16:53.011449Z",
     "shell.execute_reply": "2024-06-04T23:16:53.009589Z",
     "shell.execute_reply.started": "2024-06-04T23:16:52.905977Z"
    },
    "slideshow": {
     "slide_type": ""
    },
    "tags": []
   },
   "outputs": [],
   "source": [
    "buckets = [dict(),]*(EXECUTION_DURATION_S+1)\n",
    "buckets[0]['global'] = GlobalBucket(0, 0, 0, 0)\n",
    "for grp in range(1, len(buckets)):\n",
    "    df_grp = DF[DF['group'] == grp]\n",
    "    bucket = buckets[grp]\n",
    "    \n",
    "    for event in df_grp.itertuples():\n",
    "        \n",
    "        if STATE['func'][event.func_id]['count'] == None:\n",
    "            pass #init func\n",
    "            if STATE['app'][event.app_id]['count'] == None:\n",
    "                pass #init app\n",
    "                if STATE['global']['count'] == None:\n",
    "                   STATE['global']['current_requests'].add(event.req)\n",
    "                   STATE['global']['count'] = 0 \n",
    "            \n",
    "        if event.func_id not in bucket:\n",
    "\n",
    "            func_state = STATE['func'][event.func_id]\n",
    "            bucket[event.func_id] = Bucket(event.ts, event.func_id, event.app_id,\n",
    "                                           \n",
    "                                        \n",
    "        else:\n",
    "            pass # departure\n",
    "        \n",
    "        \n",
    "        \n",
    "        \n",
    "        \n",
    "        \n",
    "    "
   ]
  },
  {
   "cell_type": "code",
   "execution_count": 45,
   "metadata": {
    "execution": {
     "iopub.execute_input": "2024-06-05T03:31:21.730603Z",
     "iopub.status.busy": "2024-06-05T03:31:21.729985Z",
     "iopub.status.idle": "2024-06-05T03:31:21.739905Z",
     "shell.execute_reply": "2024-06-05T03:31:21.738635Z",
     "shell.execute_reply.started": "2024-06-05T03:31:21.730558Z"
    }
   },
   "outputs": [
    {
     "data": {
      "text/plain": [
       "1"
      ]
     },
     "execution_count": 45,
     "metadata": {},
     "output_type": "execute_result"
    }
   ],
   "source": [
    "DF.iloc[0]['event_type']"
   ]
  },
  {
   "cell_type": "code",
   "execution_count": null,
   "metadata": {},
   "outputs": [],
   "source": []
  }
 ],
 "metadata": {
  "colab": {
   "provenance": []
  },
  "kernelspec": {
   "display_name": "Python 3 (ipykernel)",
   "language": "python",
   "name": "python3"
  },
  "language_info": {
   "codemirror_mode": {
    "name": "ipython",
    "version": 3
   },
   "file_extension": ".py",
   "mimetype": "text/x-python",
   "name": "python",
   "nbconvert_exporter": "python",
   "pygments_lexer": "ipython3",
   "version": "3.10.12"
  },
  "widgets": {
   "application/vnd.jupyter.widget-state+json": {
    "state": {},
    "version_major": 2,
    "version_minor": 0
   }
  }
 },
 "nbformat": 4,
 "nbformat_minor": 4
}
